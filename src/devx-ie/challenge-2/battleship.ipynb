{
 "cells": [
  {
   "cell_type": "markdown",
   "id": "b22f9708-e701-458e-a0d9-771f1ff3a606",
   "metadata": {},
   "source": [
    "### Battleship\n",
    "\n",
    "#### Objective\n",
    "Build a game where we guess a row and column until we sink the CPU’s randomly placed and randomly sized battleship."
   ]
  },
  {
   "cell_type": "code",
   "execution_count": 1,
   "id": "70f643b0-c99c-4254-9fb0-2d0ec234e9e2",
   "metadata": {},
   "outputs": [],
   "source": [
    "# Import random package to be able to create random integers\n",
    "import random"
   ]
  },
  {
   "cell_type": "markdown",
   "id": "90bcd76e-5fb8-48f5-98fa-673307c7b976",
   "metadata": {},
   "source": [
    "First item of business is we need to build a board. The cell below is our first function that we write called, you guessed it, build_board. build_board takes an integer as a parameter for however big of a square you want."
   ]
  },
  {
   "cell_type": "code",
   "execution_count": 45,
   "id": "3d1c5fff-e3cd-4fe9-9098-f21df6e9b2e0",
   "metadata": {},
   "outputs": [],
   "source": [
    "default_dim = 4"
   ]
  },
  {
   "cell_type": "code",
   "execution_count": 26,
   "id": "06b806e8-5783-45b3-b685-db4b01fce506",
   "metadata": {},
   "outputs": [
    {
     "name": "stdout",
     "output_type": "stream",
     "text": [
      "O O O O\n",
      "O O O O\n",
      "O O O O\n",
      "O O O O\n"
     ]
    }
   ],
   "source": [
    "# Print board function\n",
    "def print_board(board):\n",
    "    for row in board:\n",
    "        print(' '.join(row))\n",
    "        \n",
    "# Create a square board based on dims value\n",
    "def build_board(dims):\n",
    "    return [['O' for count in range(dims)] for count in range(dims)]\n",
    "board = build_board(default_dim)\n",
    "print_board(board)"
   ]
  },
  {
   "cell_type": "markdown",
   "id": "b19f8d1f-5dc6-4e3e-9c78-a82dbebd31a2",
   "metadata": {},
   "source": [
    "Okay, time to build a ship. We want the ship to be in a random place on the board. We also don’t want to know how long the ship is. We build our ship by placing the ship coordinates into a list. Steps to build our ship:\n",
    "\n",
    "- Assign random length to ship\n",
    "- Randomly decide if ship will be vertical or horizontal\n",
    "- Depending on whether ship is vertical or horizontal, randomly select a row or column and then assign rest of ship positions based on length and orientation.\n",
    "- Return the list of ship coordinates"
   ]
  },
  {
   "cell_type": "code",
   "execution_count": 17,
   "id": "c598ac90-b497-4db3-a5ff-eb10e390024b",
   "metadata": {},
   "outputs": [
    {
     "name": "stdout",
     "output_type": "stream",
     "text": [
      "[(1, 3), (2, 3), (3, 3)]\n"
     ]
    }
   ],
   "source": [
    "# Create and return ship positional coordinates\n",
    "def build_ship(dims):\n",
    "    # Length of ship is random number between 2 and length of board\n",
    "    len_ship = random.randint(2, dims)\n",
    "    orientation = random.randint(0, 1)\n",
    "    # Ship is horizontal if orientation is 0 and vertical if orientation is 1\n",
    "    if orientation == 0:\n",
    "        # Randomly select row and create list of selected row * length of ship\n",
    "        row_ship = [random.randint(0, dims - 1)] * len_ship\n",
    "        # Randomly select column of first position of ship (Hence subtracting length of ship)\n",
    "        col = random.randint(0, dims - len_ship)\n",
    "        # Create list of column values\n",
    "        col_ship = list(range(col, col + len_ship))\n",
    "        # Create positional values from row and column lists\n",
    "        coords = tuple(zip(row_ship, col_ship))\n",
    "    else:\n",
    "        # Same as above except switch column and row\n",
    "        col_ship = [random.randint(0, dims - 1)] * len_ship\n",
    "        row = random.randint(0, dims - len_ship)\n",
    "        row_ship = list(range(row, row + len_ship))\n",
    "        coords = tuple(zip(row_ship, col_ship))\n",
    "    return list(coords)\n",
    "\n",
    "ship = build_ship(default_dim)\n",
    "print(ship)"
   ]
  },
  {
   "cell_type": "code",
   "execution_count": 29,
   "id": "2d17b690-6642-44c4-ad0d-708741cc5097",
   "metadata": {},
   "outputs": [
    {
     "name": "stdout",
     "output_type": "stream",
     "text": [
      "O O O O\n",
      "O O O S\n",
      "O O O S\n",
      "O O O S\n"
     ]
    }
   ],
   "source": [
    "# Create board and place ship on it\n",
    "def build_board_with_ship(dims, ship):\n",
    "    board = build_board(dims)\n",
    "    # Place the ship on the board\n",
    "    for row, col in ship:\n",
    "        board[row][col] = 'S'\n",
    "    return board\n",
    "\n",
    "print_board(build_board_with_ship(default_dim, ship))"
   ]
  },
  {
   "cell_type": "markdown",
   "id": "405e95fe-facf-420b-817e-4c75558b9eea",
   "metadata": {},
   "source": [
    "Now we need to create a way for us to guess the coordinates of the CPU’s ship. To allow for user input, Python has a built-in function called input(). You can type whatever prompt you want into the input function.\n",
    "\n",
    "It’s important to know that calling input() will return a string, or a bunch of character types. We want our coordinates to be numbers, so we will convert them to numbers with the int() function (int for integer). We will also subtract 1 from our guess so we don’t have to remember that Python is 0-based indexed."
   ]
  },
  {
   "cell_type": "code",
   "execution_count": 22,
   "id": "73df5445-e9cd-4659-80a7-8a8f95fa0244",
   "metadata": {},
   "outputs": [],
   "source": [
    "def user_guess():\n",
    "    # Subtract 1 to adjust for python 0-based indexing\n",
    "    row = int(input('Row: ')) - 1\n",
    "    col = int(input('Col: ')) - 1\n",
    "    return (row, col)"
   ]
  },
  {
   "cell_type": "code",
   "execution_count": 23,
   "id": "4ba044f5-ee09-454e-bc37-ac97e3593444",
   "metadata": {},
   "outputs": [
    {
     "name": "stdout",
     "output_type": "stream",
     "text": [
      "Row:  2\n",
      "Col:  1\n"
     ]
    },
    {
     "name": "stdout",
     "output_type": "stream",
     "text": [
      "(1, 0)\n"
     ]
    }
   ],
   "source": [
    "x = user_guess(); \n",
    "print(x)"
   ]
  },
  {
   "cell_type": "markdown",
   "id": "83f638dc-d0b2-49b2-9452-757219e28a9a",
   "metadata": {},
   "source": [
    "When we make a guess, we want the computer to know if we’ve already guessed it, if we hit the ship or if we missed. We will create a function update_board that takes four parameters: our guess, the board, the ship, and a list of all previous guesses. Then we will use if statements to update our board, guesses, and non-destroyed ship coordinates. We will also have the computer print statements so we know the results of our guess!"
   ]
  },
  {
   "cell_type": "code",
   "execution_count": 24,
   "id": "a8ec88eb-919f-4470-a63b-18d9aca1590a",
   "metadata": {},
   "outputs": [],
   "source": [
    "def update_board(guess, board, ship, guesses):\n",
    "    if guess in guesses:\n",
    "        print('You already guessed that!')\n",
    "        return board\n",
    "    guesses.append(guess)\n",
    "    if guess in ship:\n",
    "        print('You hit my battleship!')\n",
    "        # Update board with 'X' signifying a hit\n",
    "        board[guess[0]][guess[1]] = 'X'\n",
    "        # Remove this value from ship coordinates; useful for while loop in main()\n",
    "        ship.remove(guess)\n",
    "        return board\n",
    "    print('Miss!')\n",
    "    return board"
   ]
  },
  {
   "cell_type": "code",
   "execution_count": 31,
   "id": "fb91bdc8-3f88-41df-bd3d-59eed8984832",
   "metadata": {},
   "outputs": [],
   "source": [
    "# Since we haven't made any guesses yet, we pass in an empty list of guesses\n",
    "guesses = [] "
   ]
  },
  {
   "cell_type": "code",
   "execution_count": 34,
   "id": "675d1e34-8821-4f29-9522-925dbd63202a",
   "metadata": {},
   "outputs": [
    {
     "name": "stdout",
     "output_type": "stream",
     "text": [
      "[(1, 3), (2, 3), (3, 3)]\n"
     ]
    }
   ],
   "source": [
    "print(ship)"
   ]
  },
  {
   "cell_type": "code",
   "execution_count": 33,
   "id": "45a82159-ebc5-4a88-80eb-1a18e604624d",
   "metadata": {},
   "outputs": [
    {
     "name": "stdout",
     "output_type": "stream",
     "text": [
      "[(1, 2)]\n"
     ]
    }
   ],
   "source": [
    "print(guesses)"
   ]
  },
  {
   "cell_type": "code",
   "execution_count": 37,
   "id": "08b64b01-3032-47c6-a4ec-b0f9be71838e",
   "metadata": {},
   "outputs": [
    {
     "name": "stdout",
     "output_type": "stream",
     "text": [
      "Row:  3\n",
      "Col:  4\n"
     ]
    },
    {
     "name": "stdout",
     "output_type": "stream",
     "text": [
      "You hit my battleship!\n",
      "O O O O\n",
      "O O O O\n",
      "O O O X\n",
      "O O O O\n"
     ]
    }
   ],
   "source": [
    "our_guess = user_guess()\n",
    "board = update_board(our_guess, board, ship, guesses)\n",
    "print_board(board)"
   ]
  },
  {
   "cell_type": "code",
   "execution_count": 36,
   "id": "11c817b6-0f0a-42c0-8c69-23a3534753d0",
   "metadata": {},
   "outputs": [
    {
     "name": "stdout",
     "output_type": "stream",
     "text": [
      "(1, 2)\n"
     ]
    }
   ],
   "source": [
    "print(our_guess)"
   ]
  },
  {
   "cell_type": "code",
   "execution_count": 28,
   "id": "dba1f0d1-e8ba-410f-9822-fd4047b5ec4b",
   "metadata": {},
   "outputs": [
    {
     "name": "stdout",
     "output_type": "stream",
     "text": [
      "Row:  2\n",
      "Col:  3\n"
     ]
    },
    {
     "name": "stdout",
     "output_type": "stream",
     "text": [
      "Miss!\n",
      "O O O O\n",
      "O O O O\n",
      "O O O O\n",
      "O O O O\n"
     ]
    }
   ],
   "source": [
    "our_guess = user_guess()\n",
    "board = update_board(our_guess, board, ship, guesses)\n",
    "print_board(board)"
   ]
  },
  {
   "cell_type": "code",
   "execution_count": 30,
   "id": "e50c13a6-baae-4e4b-b26d-a7e7f01989b0",
   "metadata": {},
   "outputs": [
    {
     "name": "stdout",
     "output_type": "stream",
     "text": [
      "Row:  1\n",
      "Col:  3\n"
     ]
    },
    {
     "name": "stdout",
     "output_type": "stream",
     "text": [
      "Miss!\n",
      "O O O O\n",
      "O O O O\n",
      "O O O O\n",
      "O O O O\n"
     ]
    }
   ],
   "source": [
    "our_guess = user_guess()\n",
    "board = update_board(our_guess, board, ship, guesses)\n",
    "print_board(board)"
   ]
  },
  {
   "cell_type": "code",
   "execution_count": 40,
   "id": "865e1882-2100-4b52-9973-4165634a8a36",
   "metadata": {},
   "outputs": [],
   "source": [
    "def welcome_message():\n",
    "    print('Welcome to Battleship!')\n",
    "    print('There is a battleship hidden in this board. Enter your row and column guesses to sink it!')"
   ]
  },
  {
   "cell_type": "raw",
   "id": "56c8ff5b-62c0-4800-a90c-e3776ffb7987",
   "metadata": {},
   "source": [
    "def main():\n",
    "    welcome_message()\n",
    "    board = build_board(default_dim)\n",
    "    print_board(board)\n",
    "    ship = build_ship(default_dim)\n",
    "    #print(ship)\n",
    "    guesses = []\n",
    "    while len(ship) > 0:\n",
    "        board = update_board(user_guess(), board, ship, guesses)\n",
    "        print_board(board)\n",
    "    print('You sunk my battleship!')\n",
    "    return "
   ]
  },
  {
   "cell_type": "code",
   "execution_count": 50,
   "id": "3f177281-2788-4c37-b453-f341f10f164d",
   "metadata": {},
   "outputs": [
    {
     "name": "stdout",
     "output_type": "stream",
     "text": [
      "Welcome to Battleship!\n",
      "There is a battleship hidden in this board. Enter your row and column guesses to sink it!\n",
      "O O O O\n",
      "O O O O\n",
      "O O O O\n",
      "O O O O\n",
      "[(2, 1), (3, 1)]\n"
     ]
    },
    {
     "name": "stdout",
     "output_type": "stream",
     "text": [
      "Row:  3\n",
      "Col:  2\n"
     ]
    },
    {
     "name": "stdout",
     "output_type": "stream",
     "text": [
      "You hit my battleship!\n",
      "O O O O\n",
      "O O O O\n",
      "O X O O\n",
      "O O O O\n"
     ]
    },
    {
     "name": "stdout",
     "output_type": "stream",
     "text": [
      "Row:  3\n",
      "Col:  2\n"
     ]
    },
    {
     "name": "stdout",
     "output_type": "stream",
     "text": [
      "You already guessed that!\n",
      "O O O O\n",
      "O O O O\n",
      "O X O O\n",
      "O O O O\n"
     ]
    },
    {
     "name": "stdout",
     "output_type": "stream",
     "text": [
      "Row:  3\n",
      "Col:  1\n"
     ]
    },
    {
     "name": "stdout",
     "output_type": "stream",
     "text": [
      "Miss!\n",
      "O O O O\n",
      "O O O O\n",
      "O X O O\n",
      "O O O O\n"
     ]
    },
    {
     "name": "stdout",
     "output_type": "stream",
     "text": [
      "Row:  4\n",
      "Col:  4\n"
     ]
    },
    {
     "name": "stdout",
     "output_type": "stream",
     "text": [
      "Miss!\n",
      "O O O O\n",
      "O O O O\n",
      "O X O O\n",
      "O O O O\n"
     ]
    },
    {
     "name": "stdout",
     "output_type": "stream",
     "text": [
      "Row:  4\n",
      "Col:  2\n"
     ]
    },
    {
     "name": "stdout",
     "output_type": "stream",
     "text": [
      "You hit my battleship!\n",
      "O O O O\n",
      "O O O O\n",
      "O X O O\n",
      "O X O O\n",
      "You sunk my battleship!\n"
     ]
    }
   ],
   "source": [
    "main()"
   ]
  },
  {
   "cell_type": "code",
   "execution_count": null,
   "id": "8a59c26d-e342-4a09-96c5-26c667fb75e7",
   "metadata": {},
   "outputs": [],
   "source": []
  }
 ],
 "metadata": {
  "kernelspec": {
   "display_name": "Python 3 (ipykernel)",
   "language": "python",
   "name": "python3"
  },
  "language_info": {
   "codemirror_mode": {
    "name": "ipython",
    "version": 3
   },
   "file_extension": ".py",
   "mimetype": "text/x-python",
   "name": "python",
   "nbconvert_exporter": "python",
   "pygments_lexer": "ipython3",
   "version": "3.12.9"
  }
 },
 "nbformat": 4,
 "nbformat_minor": 5
}
